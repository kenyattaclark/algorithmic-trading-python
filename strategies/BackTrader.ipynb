{
 "cells": [
  {
   "cell_type": "code",
   "execution_count": null,
   "metadata": {
    "collapsed": true,
    "pycharm": {
     "is_executing": true
    }
   },
   "outputs": [],
   "source": [
    "import backtrader as bt\n",
    "import pandas as pd\n",
    "import datetime\n",
    "import time\n",
    "import yfinance as yf\n",
    "%matplotlib inline"
   ]
  },
  {
   "cell_type": "code",
   "execution_count": 69,
   "metadata": {},
   "outputs": [],
   "source": [
    "cerebro = bt.Cerebro()"
   ]
  },
  {
   "cell_type": "code",
   "execution_count": 70,
   "metadata": {},
   "outputs": [
    {
     "data": {
      "text/plain": [
       "'https://query1.finance.yahoo.com/v7/finance/download/AAPL?period1=1543730340&period2=1672552740&interval=1d&events=history'"
      ]
     },
     "execution_count": 70,
     "metadata": {},
     "output_type": "execute_result"
    }
   ],
   "source": [
    "#Ticker in url\n",
    "ticker = 'AAPL'\n",
    "\n",
    "#Timeperiods of data set \"Y/M/D/time\"\n",
    "#this will help when selecting the desired dates and will pull the data set from yahoo finance.\n",
    "period1 = int(time.mktime(datetime.datetime(2018, 12, 1, 23, 59).timetuple()))\n",
    "period2 = int(time.mktime(datetime.datetime(2022, 12, 31, 23, 59).timetuple()))\n",
    "interval = '1d' # 1wk, 1m\n",
    "\n",
    "#Yahoo Finance url\n",
    "url = f'https://query1.finance.yahoo.com/v7/finance/download/{ticker}?period1={period1}&period2={period2}&interval={interval}&events=history'\n",
    "url"
   ]
  },
  {
   "cell_type": "code",
   "execution_count": 27,
   "metadata": {},
   "outputs": [
    {
     "data": {
      "text/plain": "                  Open        High         Low       Close     Volume\n2018-12-03   46.115002   46.235001   45.302502   46.205002  163210000\n2018-12-04   45.237499   45.597500   44.067501   44.172501  165377200\n2018-12-06   42.939999   43.695000   42.605000   43.680000  172393600\n2018-12-07   43.372501   43.622501   42.075001   42.122501  169126400\n2018-12-10   41.250000   42.522499   40.832500   42.400002  248104000\n...                ...         ...         ...         ...        ...\n2022-12-23  130.919998  132.419998  129.639999  131.860001   63814900\n2022-12-27  131.380005  131.410004  128.720001  130.029999   69007800\n2022-12-28  129.669998  131.029999  125.870003  126.040001   85438400\n2022-12-29  127.989998  130.479996  127.730003  129.610001   75703700\n2022-12-30  128.410004  129.949997  127.430000  129.929993   76960600\n\n[1027 rows x 5 columns]",
      "text/html": "<div>\n<style scoped>\n    .dataframe tbody tr th:only-of-type {\n        vertical-align: middle;\n    }\n\n    .dataframe tbody tr th {\n        vertical-align: top;\n    }\n\n    .dataframe thead th {\n        text-align: right;\n    }\n</style>\n<table border=\"1\" class=\"dataframe\">\n  <thead>\n    <tr style=\"text-align: right;\">\n      <th></th>\n      <th>Open</th>\n      <th>High</th>\n      <th>Low</th>\n      <th>Close</th>\n      <th>Volume</th>\n    </tr>\n  </thead>\n  <tbody>\n    <tr>\n      <th>2018-12-03</th>\n      <td>46.115002</td>\n      <td>46.235001</td>\n      <td>45.302502</td>\n      <td>46.205002</td>\n      <td>163210000</td>\n    </tr>\n    <tr>\n      <th>2018-12-04</th>\n      <td>45.237499</td>\n      <td>45.597500</td>\n      <td>44.067501</td>\n      <td>44.172501</td>\n      <td>165377200</td>\n    </tr>\n    <tr>\n      <th>2018-12-06</th>\n      <td>42.939999</td>\n      <td>43.695000</td>\n      <td>42.605000</td>\n      <td>43.680000</td>\n      <td>172393600</td>\n    </tr>\n    <tr>\n      <th>2018-12-07</th>\n      <td>43.372501</td>\n      <td>43.622501</td>\n      <td>42.075001</td>\n      <td>42.122501</td>\n      <td>169126400</td>\n    </tr>\n    <tr>\n      <th>2018-12-10</th>\n      <td>41.250000</td>\n      <td>42.522499</td>\n      <td>40.832500</td>\n      <td>42.400002</td>\n      <td>248104000</td>\n    </tr>\n    <tr>\n      <th>...</th>\n      <td>...</td>\n      <td>...</td>\n      <td>...</td>\n      <td>...</td>\n      <td>...</td>\n    </tr>\n    <tr>\n      <th>2022-12-23</th>\n      <td>130.919998</td>\n      <td>132.419998</td>\n      <td>129.639999</td>\n      <td>131.860001</td>\n      <td>63814900</td>\n    </tr>\n    <tr>\n      <th>2022-12-27</th>\n      <td>131.380005</td>\n      <td>131.410004</td>\n      <td>128.720001</td>\n      <td>130.029999</td>\n      <td>69007800</td>\n    </tr>\n    <tr>\n      <th>2022-12-28</th>\n      <td>129.669998</td>\n      <td>131.029999</td>\n      <td>125.870003</td>\n      <td>126.040001</td>\n      <td>85438400</td>\n    </tr>\n    <tr>\n      <th>2022-12-29</th>\n      <td>127.989998</td>\n      <td>130.479996</td>\n      <td>127.730003</td>\n      <td>129.610001</td>\n      <td>75703700</td>\n    </tr>\n    <tr>\n      <th>2022-12-30</th>\n      <td>128.410004</td>\n      <td>129.949997</td>\n      <td>127.430000</td>\n      <td>129.929993</td>\n      <td>76960600</td>\n    </tr>\n  </tbody>\n</table>\n<p>1027 rows × 5 columns</p>\n</div>"
     },
     "execution_count": 27,
     "metadata": {},
     "output_type": "execute_result"
    }
   ],
   "source": [
    "df = pd.read_csv(url)\n",
    "df.columns = ['Date', 'Open', 'High', 'Low', 'Close', 'Adj Close', 'Volume']\n",
    "\n",
    "df['Date'] = pd.to_datetime(df['Date'], format = \"%Y/%m/%d %H:%M:%S\" )\n",
    "df = df.set_index(pd.DatetimeIndex(df['Date'].values))\n",
    "df.drop('Date', inplace=True, axis=1)\n",
    "df.drop('Adj Close', inplace=True, axis=1)\n",
    "df"
   ]
  },
  {
   "cell_type": "code",
   "execution_count": 28,
   "metadata": {},
   "outputs": [
    {
     "ename": "AttributeError",
     "evalue": "'int' object has no attribute 'to_pydatetime'",
     "output_type": "error",
     "traceback": [
      "\u001B[0;31m---------------------------------------------------------------------------\u001B[0m",
      "\u001B[0;31mAttributeError\u001B[0m                            Traceback (most recent call last)",
      "Cell \u001B[0;32mIn [28], line 3\u001B[0m\n\u001B[1;32m      1\u001B[0m feed \u001B[38;5;241m=\u001B[39m bt\u001B[38;5;241m.\u001B[39mfeeds\u001B[38;5;241m.\u001B[39mPandasData(dataname\u001B[38;5;241m=\u001B[39mdf)\n\u001B[1;32m      2\u001B[0m cerebro\u001B[38;5;241m.\u001B[39madddata(feed)\n\u001B[0;32m----> 3\u001B[0m \u001B[43mcerebro\u001B[49m\u001B[38;5;241;43m.\u001B[39;49m\u001B[43mrun\u001B[49m\u001B[43m(\u001B[49m\u001B[43m)\u001B[49m\n",
      "File \u001B[0;32m/usr/local/lib/python3.10/site-packages/backtrader/cerebro.py:1127\u001B[0m, in \u001B[0;36mCerebro.run\u001B[0;34m(self, **kwargs)\u001B[0m\n\u001B[1;32m   1123\u001B[0m \u001B[38;5;28;01mif\u001B[39;00m \u001B[38;5;129;01mnot\u001B[39;00m \u001B[38;5;28mself\u001B[39m\u001B[38;5;241m.\u001B[39m_dooptimize \u001B[38;5;129;01mor\u001B[39;00m \u001B[38;5;28mself\u001B[39m\u001B[38;5;241m.\u001B[39mp\u001B[38;5;241m.\u001B[39mmaxcpus \u001B[38;5;241m==\u001B[39m \u001B[38;5;241m1\u001B[39m:\n\u001B[1;32m   1124\u001B[0m     \u001B[38;5;66;03m# If no optimmization is wished ... or 1 core is to be used\u001B[39;00m\n\u001B[1;32m   1125\u001B[0m     \u001B[38;5;66;03m# let's skip process \"spawning\"\u001B[39;00m\n\u001B[1;32m   1126\u001B[0m     \u001B[38;5;28;01mfor\u001B[39;00m iterstrat \u001B[38;5;129;01min\u001B[39;00m iterstrats:\n\u001B[0;32m-> 1127\u001B[0m         runstrat \u001B[38;5;241m=\u001B[39m \u001B[38;5;28;43mself\u001B[39;49m\u001B[38;5;241;43m.\u001B[39;49m\u001B[43mrunstrategies\u001B[49m\u001B[43m(\u001B[49m\u001B[43miterstrat\u001B[49m\u001B[43m)\u001B[49m\n\u001B[1;32m   1128\u001B[0m         \u001B[38;5;28mself\u001B[39m\u001B[38;5;241m.\u001B[39mrunstrats\u001B[38;5;241m.\u001B[39mappend(runstrat)\n\u001B[1;32m   1129\u001B[0m         \u001B[38;5;28;01mif\u001B[39;00m \u001B[38;5;28mself\u001B[39m\u001B[38;5;241m.\u001B[39m_dooptimize:\n",
      "File \u001B[0;32m/usr/local/lib/python3.10/site-packages/backtrader/cerebro.py:1212\u001B[0m, in \u001B[0;36mCerebro.runstrategies\u001B[0;34m(self, iterstrat, predata)\u001B[0m\n\u001B[1;32m   1210\u001B[0m         data\u001B[38;5;241m.\u001B[39m_start()\n\u001B[1;32m   1211\u001B[0m         \u001B[38;5;28;01mif\u001B[39;00m \u001B[38;5;28mself\u001B[39m\u001B[38;5;241m.\u001B[39m_dopreload:\n\u001B[0;32m-> 1212\u001B[0m             \u001B[43mdata\u001B[49m\u001B[38;5;241;43m.\u001B[39;49m\u001B[43mpreload\u001B[49m\u001B[43m(\u001B[49m\u001B[43m)\u001B[49m\n\u001B[1;32m   1214\u001B[0m \u001B[38;5;28;01mfor\u001B[39;00m stratcls, sargs, skwargs \u001B[38;5;129;01min\u001B[39;00m iterstrat:\n\u001B[1;32m   1215\u001B[0m     sargs \u001B[38;5;241m=\u001B[39m \u001B[38;5;28mself\u001B[39m\u001B[38;5;241m.\u001B[39mdatas \u001B[38;5;241m+\u001B[39m \u001B[38;5;28mlist\u001B[39m(sargs)\n",
      "File \u001B[0;32m/usr/local/lib/python3.10/site-packages/backtrader/feed.py:438\u001B[0m, in \u001B[0;36mAbstractDataBase.preload\u001B[0;34m(self)\u001B[0m\n\u001B[1;32m    437\u001B[0m \u001B[38;5;28;01mdef\u001B[39;00m \u001B[38;5;21mpreload\u001B[39m(\u001B[38;5;28mself\u001B[39m):\n\u001B[0;32m--> 438\u001B[0m     \u001B[38;5;28;01mwhile\u001B[39;00m \u001B[38;5;28;43mself\u001B[39;49m\u001B[38;5;241;43m.\u001B[39;49m\u001B[43mload\u001B[49m\u001B[43m(\u001B[49m\u001B[43m)\u001B[49m:\n\u001B[1;32m    439\u001B[0m         \u001B[38;5;28;01mpass\u001B[39;00m\n\u001B[1;32m    441\u001B[0m     \u001B[38;5;28mself\u001B[39m\u001B[38;5;241m.\u001B[39m_last()\n",
      "File \u001B[0;32m/usr/local/lib/python3.10/site-packages/backtrader/feed.py:479\u001B[0m, in \u001B[0;36mAbstractDataBase.load\u001B[0;34m(self)\u001B[0m\n\u001B[1;32m    476\u001B[0m     \u001B[38;5;28;01mreturn\u001B[39;00m \u001B[38;5;28;01mTrue\u001B[39;00m\n\u001B[1;32m    478\u001B[0m \u001B[38;5;28;01mif\u001B[39;00m \u001B[38;5;129;01mnot\u001B[39;00m \u001B[38;5;28mself\u001B[39m\u001B[38;5;241m.\u001B[39m_fromstack(stash\u001B[38;5;241m=\u001B[39m\u001B[38;5;28;01mTrue\u001B[39;00m):\n\u001B[0;32m--> 479\u001B[0m     _loadret \u001B[38;5;241m=\u001B[39m \u001B[38;5;28;43mself\u001B[39;49m\u001B[38;5;241;43m.\u001B[39;49m\u001B[43m_load\u001B[49m\u001B[43m(\u001B[49m\u001B[43m)\u001B[49m\n\u001B[1;32m    480\u001B[0m     \u001B[38;5;28;01mif\u001B[39;00m \u001B[38;5;129;01mnot\u001B[39;00m _loadret:  \u001B[38;5;66;03m# no bar use force to make sure in exactbars\u001B[39;00m\n\u001B[1;32m    481\u001B[0m         \u001B[38;5;66;03m# the pointer is undone this covers especially (but not\u001B[39;00m\n\u001B[1;32m    482\u001B[0m         \u001B[38;5;66;03m# uniquely) the case in which the last bar has been seen\u001B[39;00m\n\u001B[1;32m    483\u001B[0m         \u001B[38;5;66;03m# and a backwards would ruin pointer accounting in the\u001B[39;00m\n\u001B[1;32m    484\u001B[0m         \u001B[38;5;66;03m# \"stop\" method of the strategy\u001B[39;00m\n\u001B[1;32m    485\u001B[0m         \u001B[38;5;28mself\u001B[39m\u001B[38;5;241m.\u001B[39mbackwards(force\u001B[38;5;241m=\u001B[39m\u001B[38;5;28;01mTrue\u001B[39;00m)  \u001B[38;5;66;03m# undo data pointer\u001B[39;00m\n",
      "File \u001B[0;32m/usr/local/lib/python3.10/site-packages/backtrader/feeds/pandafeed.py:268\u001B[0m, in \u001B[0;36mPandasData._load\u001B[0;34m(self)\u001B[0m\n\u001B[1;32m    265\u001B[0m     tstamp \u001B[38;5;241m=\u001B[39m \u001B[38;5;28mself\u001B[39m\u001B[38;5;241m.\u001B[39mp\u001B[38;5;241m.\u001B[39mdataname\u001B[38;5;241m.\u001B[39miloc[\u001B[38;5;28mself\u001B[39m\u001B[38;5;241m.\u001B[39m_idx, coldtime]\n\u001B[1;32m    267\u001B[0m \u001B[38;5;66;03m# convert to float via datetime and store it\u001B[39;00m\n\u001B[0;32m--> 268\u001B[0m dt \u001B[38;5;241m=\u001B[39m \u001B[43mtstamp\u001B[49m\u001B[38;5;241;43m.\u001B[39;49m\u001B[43mto_pydatetime\u001B[49m()\n\u001B[1;32m    269\u001B[0m dtnum \u001B[38;5;241m=\u001B[39m date2num(dt)\n\u001B[1;32m    270\u001B[0m \u001B[38;5;28mself\u001B[39m\u001B[38;5;241m.\u001B[39mlines\u001B[38;5;241m.\u001B[39mdatetime[\u001B[38;5;241m0\u001B[39m] \u001B[38;5;241m=\u001B[39m dtnum\n",
      "\u001B[0;31mAttributeError\u001B[0m: 'int' object has no attribute 'to_pydatetime'"
     ]
    }
   ],
   "source": [
    "feed = bt.feeds.PandasData(dataname=df)\n",
    "cerebro.adddata(feed)\n",
    "cerebro.run()\n"
   ]
  },
  {
   "cell_type": "code",
   "execution_count": null,
   "metadata": {
    "pycharm": {
     "is_executing": true
    }
   },
   "outputs": [],
   "source": []
  }
 ],
 "metadata": {
  "kernelspec": {
   "display_name": "Python 3 (ipykernel)",
   "language": "python",
   "name": "python3"
  },
  "language_info": {
   "codemirror_mode": {
    "name": "ipython",
    "version": 3
   },
   "file_extension": ".py",
   "mimetype": "text/x-python",
   "name": "python",
   "nbconvert_exporter": "python",
   "pygments_lexer": "ipython3",
   "version": "3.10.8"
  }
 },
 "nbformat": 4,
 "nbformat_minor": 1
}
