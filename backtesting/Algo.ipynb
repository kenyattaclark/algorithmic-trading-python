{
 "cells": [
  {
   "cell_type": "code",
   "execution_count": null,
   "metadata": {},
   "outputs": [],
   "source": [
    "import datetime as datetime\n",
    "import time as time\n",
    "\n",
    "import pandas as pd\n",
    "import talib\n",
    "from backtesting import Strategy, Backtest\n",
    "from backtesting.lib import crossover, resample_apply"
   ]
  },
  {
   "cell_type": "code",
   "execution_count": null,
   "metadata": {},
   "outputs": [],
   "source": [
    "#IMPORT LIST OF SP500 STOCKS HERE IN THE TICKER VARIABLE TO RUN TESTS ON ALL OF THE INDIVIDUAL\n",
    "#STOCKS\n",
    "\n",
    "#Ticker in url\n",
    "ticker = 'AAPL'\n",
    "\n",
    "#Timeperiods of data set \"Y/M/D/time\"\n",
    "#this will help when selecting the desired dates and will pull the data set from yahoo finance.\n",
    "period1 = int(time.mktime(datetime.datetime(2013, 1, 1, 23, 59).timetuple()))\n",
    "period2 = int(time.mktime(datetime.datetime(2023, 1, 12, 23, 59).timetuple()))\n",
    "interval = '1d' # 1wk, 1m\n",
    "\n",
    "#Yahoo Finance url\n",
    "url = f'https://query1.finance.yahoo.com/v7/finance/download/{ticker}?period1={period1}&period2={period2}&interval={interval}&events=history&includeAdjustedClose=true'\n",
    "\n",
    "#defining df to backtesting requirements\n",
    "df = pd.read_csv(url)\n",
    "columns = ['Date', 'Open', 'High', 'Low', 'Close', 'adj close', 'Volume']\n",
    "df.columns = columns\n",
    "\n",
    "#index df to date time index to fit backtesting.py\n",
    "#df requirements\n",
    "df = df.set_index(pd.DatetimeIndex(df['Date'].values))\n",
    "\n",
    "#dropping columns that are not necessary for backtesting.py format\n",
    "df.drop('Date', inplace=True, axis=1)\n",
    "df.drop('adj close', inplace=True, axis=1)\n",
    "df"
   ]
  },
  {
   "cell_type": "code",
   "execution_count": null,
   "metadata": {},
   "outputs": [],
   "source": [
    "#the overall trading strategy function\n",
    "class MACD(Strategy):\n",
    "\n",
    "    #defines the premade trading parameters imported from talib\n",
    "    #(trading parameter, data column being used, trading window)\n",
    "    def init(self):\n",
    "\n",
    "        #MACD variables\n",
    "        self.macd, self.macdsignal, self.macdhist = self.I(talib.MACD, self.data.Close, fastperiod=12, slowperiod=26, signalperiod=9)\n",
    "        #A comparison from the TA-lib directory\n",
    "        #macd, macdsignal, macdhist = MACD(close, fastperiod=12, slowperiod=26, signalperiod=9)\n",
    "\n",
    "    def next(self):\n",
    "\n",
    "        if crossover(self.macdsignal, self.macd):\n",
    "            #if this statement is true the below command signals a sell.\n",
    "            self.position.close()\n",
    "            # self.sell()\n",
    "\n",
    "        elif crossover(self.macd, self.macdsignal):\n",
    "            #buy command\n",
    "            # self.position.close()\n",
    "            self.buy()\n",
    "\n",
    "\n",
    "#bt variable runs the backtest dependant on the data, strategy, and cash\n",
    "#other parameters can be added to more complex strategies. Refer to\n",
    "#backtesting.py on github\n",
    "bt = Backtest(df, MACD, cash = 10_000)\n",
    "stats = bt.run()\n",
    "stats\n",
    "#the plotting function does not work in python 3.8.7 so it needs to be\n",
    "#run in a earlier python like python 3.6 to graph the trades\n",
    "#bt.plot()"
   ]
  },
  {
   "cell_type": "code",
   "execution_count": null,
   "metadata": {},
   "outputs": [],
   "source": [
    "bt.plot()"
   ]
  },
  {
   "cell_type": "code",
   "execution_count": null,
   "metadata": {},
   "outputs": [],
   "source": [
    "stats.tail()\n",
    "stats['_trades']"
   ]
  },
  {
   "cell_type": "code",
   "execution_count": null,
   "metadata": {},
   "outputs": [],
   "source": [
    "#the overall trading strategy function\n",
    "class Stochastic(Strategy):\n",
    "\n",
    "    #defines the premade trading parameters imported from talib\n",
    "    #(trading parameter, data column being used, trading window)\n",
    "    def __init__(self, broker, data, params):\n",
    "        super().__init__(broker, data, params)\n",
    "        self.stochd = None\n",
    "        self.stochk = None\n",
    "\n",
    "    def init(self):\n",
    "        #STOCH variables\n",
    "        self.stochk, self.stochd = self.I(talib.STOCH, self.data.High, self.data.Low, self.data.Close, fastk_period=14, slowk_period=3, slowd_period=3)\n",
    "\n",
    "        #slowk, slowd = STOCH(high, low, close, fastk_period=5, slowk_period=3, slowk_matype=0, slowd_period=3, slowd_matype=0)\n",
    "    def next(self):\n",
    "\n",
    "        if self.stochk > 80 and self.stochd > 80 and crossover(self.stochk, self.stochd):\n",
    "            #if this statement is true the below command signals a sell.\n",
    "            self.position.close()\n",
    "        elif self.stochk < 20 and self.stochd < 20 and crossover(self.stochd, self.stochk):\n",
    "            #buy command\n",
    "            self.buy()\n",
    "\n",
    "#bt variable runs the backtest dependant on the data, strategy, and cash\n",
    "#other parameters can be added to more complex strategies. Refer to\n",
    "#backtesting.py on github\n",
    "bt = Backtest(df, Stochastic)\n",
    "stats = bt.run()\n",
    "stats\n"
   ]
  },
  {
   "cell_type": "code",
   "execution_count": null,
   "metadata": {},
   "outputs": [],
   "source": [
    "stats['_trades']"
   ]
  },
  {
   "cell_type": "markdown",
   "metadata": {},
   "source": [
    "## MACD and Stochastic: A Double-Cross Strategy\n",
    "\n",
    "https://www.investopedia.com/articles/trading/08/macd-stochastic-double-cross.asp#:~:text=The%20Strategy,-First%2C%20look%20for&text=When%20applying%20the%20stochastic%20and,days%20of%20placing%20your%20trade.\n",
    "\n",
    "### The Strategy\n",
    "\n",
    "First, look for the bullish crossovers to occur within two days of each other. When applying the stochastic and MACD double-cross strategy, ideally, the crossover occurs below the 50-line on the stochastic to catch a longer price move. And preferably, you want the histogram value to already be or move higher than zero within two days of placing your trade.\n",
    "\n",
    "Also note the MACD must cross slightly after the stochastic, as the alternative could create a false indication of the price trend or place you in a sideways trend.\n",
    "\n",
    "Finally, it is safer to trade stocks trading above their 200-day moving averages, but it is not an absolute necessity.\n",
    "\n"
   ]
  },
  {
   "cell_type": "code",
   "execution_count": null,
   "metadata": {},
   "outputs": [],
   "source": [
    "#the overall trading strategy function\n",
    "class DoubleCross(Strategy):\n",
    "\n",
    "    #defines the premade trading parameters imported from talib\n",
    "    #(trading parameter, data column being used, trading window)\n",
    "    def __init__(self, broker, data, params):\n",
    "        super().__init__(broker, data, params)\n",
    "        self.stochd = None\n",
    "        self.stochk = None\n",
    "        self.macdhist = None\n",
    "        self.macdsignal = None\n",
    "        self.macd = None\n",
    "        self.db_lookback = -4\n",
    "\n",
    "    def init(self):\n",
    "        #STOCH variables\n",
    "        self.macd, self.macdsignal, self.macdhist =  self.I(talib.MACD, self.data.Close, fastperiod=12, slowperiod=26, signalperiod=9)\n",
    "        self.stochk, self.stochd = resample_apply(\"D\", talib.STOCH, self.data.High, self.data.Low, self.data.Close, fastk_period=14, slowk_period=3, slowd_period=3)\n",
    "\n",
    "    def next(self):\n",
    "        if crossover(self.macdsignal, self.macd):\n",
    "            #if this statement is true the below command signals a sell.\n",
    "            for i in range(-1, self.db_lookback, -1):\n",
    "                if 80 < self.stochk[i] < self.stochd[i]:\n",
    "                    self.position.close()\n",
    "                    break\n",
    "        elif crossover(self.macd, self.macdsignal):\n",
    "            for i in range(-1, self.db_lookback, -1):\n",
    "                if 50 > self.stochk[i] > self.stochd[i]:\n",
    "                    self.buy()\n",
    "                    break\n",
    "\n",
    "\n",
    "bt = Backtest(df, DoubleCross, cash = 10_000, exclusive_orders=True)\n",
    "stats = bt.run()\n",
    "stats\n",
    "#the plotting function does not work in python 3.8.7 so it needs to be\n",
    "#run in a earlier python like python 3.6 to graph the trades\n",
    "#bt.plot()"
   ]
  },
  {
   "cell_type": "code",
   "execution_count": null,
   "metadata": {},
   "outputs": [],
   "source": [
    "bt.plot()"
   ]
  },
  {
   "cell_type": "code",
   "execution_count": null,
   "metadata": {},
   "outputs": [],
   "source": [
    "stats.tail()\n",
    "stats['_trades']"
   ]
  },
  {
   "cell_type": "code",
   "execution_count": null,
   "metadata": {},
   "outputs": [],
   "source": [
    "\n",
    "#the plotting function does not work in python 3.8.7 so it needs to be\n",
    "#run in a earlier python like python 3.6 to graph the trades\n",
    "bt.plot()"
   ]
  }
 ],
 "metadata": {
  "kernelspec": {
   "display_name": "Python 3 (ipykernel)",
   "language": "python",
   "name": "python3"
  },
  "language_info": {
   "codemirror_mode": {
    "name": "ipython",
    "version": 3
   },
   "file_extension": ".py",
   "mimetype": "text/x-python",
   "name": "python",
   "nbconvert_exporter": "python",
   "pygments_lexer": "ipython3",
   "version": "3.10.8"
  }
 },
 "nbformat": 4,
 "nbformat_minor": 1
}
