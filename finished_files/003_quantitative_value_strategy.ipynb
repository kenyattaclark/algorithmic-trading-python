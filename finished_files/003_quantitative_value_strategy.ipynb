{
 "cells": [
  {
   "cell_type": "markdown",
   "metadata": {},
   "source": [
    "# Quantitative Value Strategy\n",
    "\"Value investing\" means investing in the stocks that are cheapest relative to common measures of business value (like earnings or assets).\n",
    "\n",
    "For this project, we're going to build an investing strategy that selects the 50 stocks with the best value metrics. From there, we will calculate recommended trades for an equal-weight portfolio of these 50 stocks.\n",
    "\n",
    "## Library Imports\n",
    "The first thing we need to do is import the open-source software libraries that we'll be using in this tutorial."
   ]
  },
  {
   "cell_type": "code",
   "execution_count": 1,
   "metadata": {},
   "outputs": [],
   "source": [
    "import numpy as np #The Numpy numerical computing library\n",
    "import pandas as pd #The Pandas data science library\n",
    "import requests #The requests library for HTTP requests in Python\n",
    "import xlsxwriter #The XlsxWriter libarary for \n",
    "import math #The Python math module\n",
    "from scipy import stats #The SciPy stats module"
   ]
  },
  {
   "cell_type": "markdown",
   "metadata": {},
   "source": [
    "## Importing Our List of Stocks & API Token\n",
    "As before, we'll need to import our list of stocks and our API token before proceeding. Make sure the .csv file is still in your working directory and import it with the following command:"
   ]
  },
  {
   "cell_type": "code",
   "execution_count": 3,
   "metadata": {},
   "outputs": [],
   "source": [
    "stocks = pd.read_csv('sp_500_stocks.csv')\n",
    "from my_secrets import ALPHA_VANTAGE_KEY"
   ]
  },
  {
   "cell_type": "markdown",
   "metadata": {},
   "source": [
    "## Making Our First API Call\n",
    "It's now time to make the first version of our value screener!\n",
    "\n",
    "We'll start by building a simple value screener that ranks securities based on a single metric (the price-to-earnings ratio)."
   ]
  },
  {
   "cell_type": "code",
   "execution_count": 5,
   "metadata": {},
   "outputs": [
    {
     "data": {
      "text/plain": [
       "{'Symbol': 'AAPL',\n",
       " 'AssetType': 'Common Stock',\n",
       " 'Name': 'Apple Inc',\n",
       " 'Description': \"Apple Inc. is an American multinational technology company that specializes in consumer electronics, computer software, and online services. Apple is the world's largest technology company by revenue (totalling $274.5 billion in 2020) and, since January 2021, the world's most valuable company. As of 2021, Apple is the world's fourth-largest PC vendor by unit sales, and fourth-largest smartphone manufacturer. It is one of the Big Five American information technology companies, along with Amazon, Google, Microsoft, and Facebook.\",\n",
       " 'CIK': '320193',\n",
       " 'Exchange': 'NASDAQ',\n",
       " 'Currency': 'USD',\n",
       " 'Country': 'USA',\n",
       " 'Sector': 'TECHNOLOGY',\n",
       " 'Industry': 'ELECTRONIC COMPUTERS',\n",
       " 'Address': 'ONE INFINITE LOOP, CUPERTINO, CA, US',\n",
       " 'FiscalYearEnd': 'September',\n",
       " 'LatestQuarter': '2022-09-30',\n",
       " 'MarketCapitalization': '2261495579000',\n",
       " 'EBITDA': '130541003000',\n",
       " 'PERatio': '23.27',\n",
       " 'PEGRatio': '2.86',\n",
       " 'BookValue': '3.178',\n",
       " 'DividendPerShare': '0.9',\n",
       " 'DividendYield': '0.0064',\n",
       " 'EPS': '6.11',\n",
       " 'RevenuePerShareTTM': '24.32',\n",
       " 'ProfitMargin': '0.253',\n",
       " 'OperatingMarginTTM': '0.303',\n",
       " 'ReturnOnAssetsTTM': '0.212',\n",
       " 'ReturnOnEquityTTM': '1.755',\n",
       " 'RevenueTTM': '394328015000',\n",
       " 'GrossProfitTTM': '170782000000',\n",
       " 'DilutedEPSTTM': '6.11',\n",
       " 'QuarterlyEarningsGrowthYOY': '0.048',\n",
       " 'QuarterlyRevenueGrowthYOY': '0.081',\n",
       " 'AnalystTargetPrice': '178.15',\n",
       " 'TrailingPE': '23.27',\n",
       " 'ForwardPE': '24.04',\n",
       " 'PriceToSalesRatioTTM': '5.74',\n",
       " 'PriceToBookRatio': '46.4',\n",
       " 'EVToRevenue': '6.14',\n",
       " 'EVToEBITDA': '18.2',\n",
       " 'Beta': '1.22',\n",
       " '52WeekHigh': '181.88',\n",
       " '52WeekLow': '128.65',\n",
       " '50DayMovingAverage': '145.15',\n",
       " '200DayMovingAverage': '153.43',\n",
       " 'SharesOutstanding': '15908100000',\n",
       " 'DividendDate': '2022-11-10',\n",
       " 'ExDividendDate': '2022-11-04'}"
      ]
     },
     "execution_count": 5,
     "metadata": {},
     "output_type": "execute_result"
    }
   ],
   "source": [
    "symbol = 'AAPL'\n",
    "api_url = f'https://www.alphavantage.co/query?function=OVERVIEW&symbol={symbol}&apikey={ALPHA_VANTAGE_KEY}'\n",
    "data = requests.get(api_url).json()\n",
    "data"
   ]
  },
  {
   "cell_type": "markdown",
   "metadata": {},
   "source": [
    "## Parsing Our API Call\n",
    "This API call has the metric we need - the price-to-earnings ratio.\n",
    "\n",
    "Here is an example of how to parse the metric from our API call:"
   ]
  },
  {
   "cell_type": "code",
   "execution_count": null,
   "metadata": {},
   "outputs": [],
   "source": [
    "pe_ratio = data['PERatio']\n",
    "pe_ratio"
   ]
  },
  {
   "cell_type": "markdown",
   "metadata": {},
   "source": [
    "## Executing A Batch API Call & Building Our DataFrame\n",
    "\n",
    "Just like in our first project, it's now time to execute several batch API calls and add the information we need to our DataFrame.\n",
    "\n",
    "We'll start by running the following code cell, which contains some code we already built last time that we can re-use for this project. More specifically, it contains a function called chunks that we can use to divide our list of securities into groups of 100."
   ]
  },
  {
   "cell_type": "code",
   "execution_count": null,
   "metadata": {},
   "outputs": [],
   "source": [
    "# Function sourced from \n",
    "# https://stackoverflow.com/questions/312443/how-do-you-split-a-list-into-evenly-sized-chunks\n",
    "def chunks(lst, n):\n",
    "    \"\"\"Yield successive n-sized chunks from lst.\"\"\"\n",
    "    for i in range(0, len(lst), n):\n",
    "        yield lst[i:i + n]   \n",
    "        \n",
    "symbol_groups = list(chunks(stocks['Ticker'], 100))\n",
    "symbol_strings = []\n",
    "for i in range(0, len(symbol_groups)):\n",
    "    symbol_strings.append(','.join(symbol_groups[i]))\n",
    "#     print(symbol_strings[i])\n",
    "\n",
    "my_columns = ['Ticker', 'Price', 'Price-to-Earnings Ratio', 'Number of Shares to Buy']"
   ]
  },
  {
   "cell_type": "markdown",
   "metadata": {},
   "source": [
    "Now we need to create a blank DataFrame and add our data to the data frame one-by-one."
   ]
  },
  {
   "cell_type": "code",
   "execution_count": null,
   "metadata": {},
   "outputs": [],
   "source": [
    "final_dataframe = pd.DataFrame(columns = my_columns)\n",
    "\n",
    "for symbol_string in symbol_strings:\n",
    "#     print(symbol_strings)\n",
    "    batch_api_call_url = f'https://sandbox.iexapis.com/stable/stock/market/batch/?types=quote&symbols={symbol_string}&token={IEX_CLOUD_API_TOKEN}'\n",
    "    data = requests.get(batch_api_call_url).json()\n",
    "    for symbol in symbol_string.split(','):\n",
    "        final_dataframe = final_dataframe.append(\n",
    "                                        pd.Series([symbol, \n",
    "                                                   data[symbol]['quote']['latestPrice'],\n",
    "                                                   data[symbol]['quote']['peRatio'],\n",
    "                                                   'N/A'\n",
    "                                                   ], \n",
    "                                                  index = my_columns), \n",
    "                                        ignore_index = True)\n",
    "        \n",
    "    \n",
    "final_dataframe"
   ]
  },
  {
   "cell_type": "markdown",
   "metadata": {},
   "source": [
    "## Removing Glamour Stocks\n",
    "\n",
    "The opposite of a \"value stock\" is a \"glamour stock\". \n",
    "\n",
    "Since the goal of this strategy is to identify the 50 best value stocks from our universe, our next step is to remove glamour stocks from the DataFrame.\n",
    "\n",
    "We'll sort the DataFrame by the stocks' price-to-earnings ratio, and drop all stocks outside the top 50."
   ]
  },
  {
   "cell_type": "code",
   "execution_count": null,
   "metadata": {},
   "outputs": [],
   "source": [
    "final_dataframe.sort_values('Price-to-Earnings Ratio', inplace = True)\n",
    "final_dataframe = final_dataframe[final_dataframe['Price-to-Earnings Ratio'] > 0]\n",
    "final_dataframe = final_dataframe[:50]\n",
    "final_dataframe.reset_index(inplace = True)\n",
    "final_dataframe.drop('index', axis=1, inplace = True)"
   ]
  },
  {
   "cell_type": "markdown",
   "metadata": {},
   "source": [
    "## Calculating the Number of Shares to Buy\n",
    "We now need to calculate the number of shares we need to buy. \n",
    "\n",
    "To do this, we will use the `portfolio_input` function that we created in our momentum project.\n",
    "\n",
    "I have included this function below."
   ]
  },
  {
   "cell_type": "code",
   "execution_count": null,
   "metadata": {},
   "outputs": [],
   "source": [
    "def portfolio_input():\n",
    "    global portfolio_size\n",
    "    portfolio_size = input(\"Enter the value of your portfolio:\")\n",
    "\n",
    "    try:\n",
    "        val = float(portfolio_size)\n",
    "    except ValueError:\n",
    "        print(\"That's not a number! \\n Try again:\")\n",
    "        portfolio_size = input(\"Enter the value of your portfolio:\")"
   ]
  },
  {
   "cell_type": "markdown",
   "metadata": {},
   "source": [
    "Use the `portfolio_input` function to accept a `portfolio_size` variable from the user of this script."
   ]
  },
  {
   "cell_type": "code",
   "execution_count": null,
   "metadata": {},
   "outputs": [],
   "source": [
    "portfolio_input()"
   ]
  },
  {
   "cell_type": "markdown",
   "metadata": {},
   "source": [
    "You can now use the global `portfolio_size` variable to calculate the number of shares that our strategy should purchase."
   ]
  },
  {
   "cell_type": "code",
   "execution_count": null,
   "metadata": {},
   "outputs": [],
   "source": [
    "position_size = float(portfolio_size) / len(final_dataframe.index)\n",
    "for i in range(0, len(final_dataframe['Ticker'])):\n",
    "    final_dataframe.loc[i, 'Number of Shares to Buy'] = math.floor(position_size / final_dataframe['Price'][i])\n",
    "final_dataframe"
   ]
  },
  {
   "cell_type": "markdown",
   "metadata": {},
   "source": [
    "## Building a Better (and More Realistic) Value Strategy\n",
    "Every valuation metric has certain flaws.\n",
    "\n",
    "For example, the price-to-earnings ratio doesn't work well with stocks with negative earnings.\n",
    "\n",
    "Similarly, stocks that buyback their own shares are difficult to value using the price-to-book ratio.\n",
    "\n",
    "Investors typically use a `composite` basket of valuation metrics to build robust quantitative value strategies. In this section, we will filter for stocks with the lowest percentiles on the following metrics:\n",
    "\n",
    "* Price-to-earnings ratio\n",
    "* Price-to-book ratio\n",
    "* Price-to-sales ratio\n",
    "* Enterprise Value divided by Earnings Before Interest, Taxes, Depreciation, and Amortization (EV/EBITDA)\n",
    "* Enterprise Value divided by Gross Profit (EV/GP)\n",
    "\n",
    "Some of these metrics aren't provided directly by the IEX Cloud API, and must be computed after pulling raw data. We'll start by calculating each data point from scratch."
   ]
  },
  {
   "cell_type": "code",
   "execution_count": null,
   "metadata": {},
   "outputs": [],
   "source": [
    "symbol = 'AAPL'\n",
    "batch_api_call_url = f'https://sandbox.iexapis.com/stable/stock/market/batch/?types=advanced-stats,quote&symbols={symbol}&token={IEX_CLOUD_API_TOKEN}'\n",
    "data = requests.get(batch_api_call_url).json()\n",
    "\n",
    "# P/E Ratio\n",
    "pe_ratio = data[symbol]['quote']['peRatio']\n",
    "\n",
    "# P/B Ratio\n",
    "pb_ratio = data[symbol]['advanced-stats']['priceToBook']\n",
    "\n",
    "#P/S Ratio\n",
    "ps_ratio = data[symbol]['advanced-stats']['priceToSales']\n",
    "\n",
    "# EV/EBITDA\n",
    "enterprise_value = data[symbol]['advanced-stats']['enterpriseValue']\n",
    "ebitda = data[symbol]['advanced-stats']['EBITDA']\n",
    "ev_to_ebitda = enterprise_value/ebitda\n",
    "\n",
    "# EV/GP\n",
    "gross_profit = data[symbol]['advanced-stats']['grossProfit']\n",
    "ev_to_gross_profit = enterprise_value/gross_profit"
   ]
  },
  {
   "cell_type": "markdown",
   "metadata": {},
   "source": [
    "Let's move on to building our DataFrame. You'll notice that I use the abbreviation `rv` often. It stands for `robust value`, which is what we'll call this sophisticated strategy moving forward."
   ]
  },
  {
   "cell_type": "code",
   "execution_count": null,
   "metadata": {},
   "outputs": [],
   "source": [
    "rv_columns = [\n",
    "    'Ticker',\n",
    "    'Price',\n",
    "    'Number of Shares to Buy', \n",
    "    'Price-to-Earnings Ratio',\n",
    "    'PE Percentile',\n",
    "    'Price-to-Book Ratio',\n",
    "    'PB Percentile',\n",
    "    'Price-to-Sales Ratio',\n",
    "    'PS Percentile',\n",
    "    'EV/EBITDA',\n",
    "    'EV/EBITDA Percentile',\n",
    "    'EV/GP',\n",
    "    'EV/GP Percentile',\n",
    "    'RV Score'\n",
    "]\n",
    "\n",
    "rv_dataframe = pd.DataFrame(columns = rv_columns)\n",
    "\n",
    "for symbol_string in symbol_strings:\n",
    "    batch_api_call_url = f'https://sandbox.iexapis.com/stable/stock/market/batch?symbols={symbol_string}&types=quote,advanced-stats&token={IEX_CLOUD_API_TOKEN}'\n",
    "    data = requests.get(batch_api_call_url).json()\n",
    "    for symbol in symbol_string.split(','):\n",
    "        enterprise_value = data[symbol]['advanced-stats']['enterpriseValue']\n",
    "        ebitda = data[symbol]['advanced-stats']['EBITDA']\n",
    "        gross_profit = data[symbol]['advanced-stats']['grossProfit']\n",
    "        \n",
    "        try:\n",
    "            ev_to_ebitda = enterprise_value/ebitda\n",
    "        except TypeError:\n",
    "            ev_to_ebitda = np.NaN\n",
    "        \n",
    "        try:\n",
    "            ev_to_gross_profit = enterprise_value/gross_profit\n",
    "        except TypeError:\n",
    "            ev_to_gross_profit = np.NaN\n",
    "            \n",
    "        rv_dataframe = rv_dataframe.append(\n",
    "            pd.Series([\n",
    "                symbol,\n",
    "                data[symbol]['quote']['latestPrice'],\n",
    "                'N/A',\n",
    "                data[symbol]['quote']['peRatio'],\n",
    "                'N/A',\n",
    "                data[symbol]['advanced-stats']['priceToBook'],\n",
    "                'N/A',\n",
    "                data[symbol]['advanced-stats']['priceToSales'],\n",
    "                'N/A',\n",
    "                ev_to_ebitda,\n",
    "                'N/A',\n",
    "                ev_to_gross_profit,\n",
    "                'N/A',\n",
    "                'N/A'\n",
    "        ],\n",
    "        index = rv_columns),\n",
    "            ignore_index = True\n",
    "        )"
   ]
  },
  {
   "cell_type": "markdown",
   "metadata": {},
   "source": [
    "## Dealing With Missing Data in Our DataFrame\n",
    "\n",
    "Our DataFrame contains some missing data because all of the metrics we require are not available through the API we're using. \n",
    "\n",
    "You can use pandas' `isnull` method to identify missing data:"
   ]
  },
  {
   "cell_type": "code",
   "execution_count": null,
   "metadata": {},
   "outputs": [],
   "source": [
    "rv_dataframe[rv_dataframe.isnull().any(axis=1)]"
   ]
  },
  {
   "cell_type": "markdown",
   "metadata": {},
   "source": [
    "Dealing with missing data is an important topic in data science.\n",
    "\n",
    "There are two main approaches:\n",
    "\n",
    "* Drop missing data from the data set (pandas' `dropna` method is useful here)\n",
    "* Replace missing data with a new value (pandas' `fillna` method is useful here)\n",
    "\n",
    "In this tutorial, we will replace missing data with the average non-`NaN` data point from that column. \n",
    "\n",
    "Here is the code to do this:"
   ]
  },
  {
   "cell_type": "code",
   "execution_count": null,
   "metadata": {},
   "outputs": [],
   "source": [
    "for column in ['Price-to-Earnings Ratio', 'Price-to-Book Ratio','Price-to-Sales Ratio',  'EV/EBITDA','EV/GP']:\n",
    "    rv_dataframe[column].fillna(rv_dataframe[column].mean(), inplace = True)"
   ]
  },
  {
   "cell_type": "markdown",
   "metadata": {},
   "source": [
    "Now, if we run the statement from earlier to print rows that contain missing data, nothing should be returned:"
   ]
  },
  {
   "cell_type": "code",
   "execution_count": null,
   "metadata": {},
   "outputs": [],
   "source": [
    "rv_dataframe[rv_dataframe.isnull().any(axis=1)]"
   ]
  },
  {
   "cell_type": "markdown",
   "metadata": {},
   "source": [
    "## Calculating Value Percentiles\n",
    "\n",
    "We now need to calculate value score percentiles for every stock in the universe. More specifically, we need to calculate percentile scores for the following metrics for every stock:\n",
    "\n",
    "* Price-to-earnings ratio\n",
    "* Price-to-book ratio\n",
    "* Price-to-sales ratio\n",
    "* EV/EBITDA\n",
    "* EV/GP\n",
    "\n",
    "Here's how we'll do this:"
   ]
  },
  {
   "cell_type": "code",
   "execution_count": null,
   "metadata": {},
   "outputs": [],
   "source": [
    "metrics = {\n",
    "            'Price-to-Earnings Ratio': 'PE Percentile',\n",
    "            'Price-to-Book Ratio':'PB Percentile',\n",
    "            'Price-to-Sales Ratio': 'PS Percentile',\n",
    "            'EV/EBITDA':'EV/EBITDA Percentile',\n",
    "            'EV/GP':'EV/GP Percentile'\n",
    "}\n",
    "\n",
    "for row in rv_dataframe.index:\n",
    "    for metric in metrics.keys():\n",
    "        rv_dataframe.loc[row, metrics[metric]] = stats.percentileofscore(rv_dataframe[metric], rv_dataframe.loc[row, metric])/100\n",
    "\n",
    "# Print each percentile score to make sure it was calculated properly\n",
    "for metric in metrics.values():\n",
    "    print(rv_dataframe[metric])\n",
    "\n",
    "#Print the entire DataFrame    \n",
    "rv_dataframe"
   ]
  },
  {
   "cell_type": "markdown",
   "metadata": {},
   "source": [
    "## Calculating the RV Score\n",
    "We'll now calculate our RV Score (which stands for Robust Value), which is the value score that we'll use to filter for stocks in this investing strategy.\n",
    "\n",
    "The RV Score will be the arithmetic mean of the 4 percentile scores that we calculated in the last section.\n",
    "\n",
    "To calculate arithmetic mean, we will use the mean function from Python's built-in statistics module."
   ]
  },
  {
   "cell_type": "code",
   "execution_count": null,
   "metadata": {},
   "outputs": [],
   "source": [
    "from statistics import mean\n",
    "\n",
    "for row in rv_dataframe.index:\n",
    "    value_percentiles = []\n",
    "    for metric in metrics.keys():\n",
    "        value_percentiles.append(rv_dataframe.loc[row, metrics[metric]])\n",
    "    rv_dataframe.loc[row, 'RV Score'] = mean(value_percentiles)\n",
    "    \n",
    "rv_dataframe"
   ]
  },
  {
   "cell_type": "markdown",
   "metadata": {},
   "source": [
    "## Selecting the 50 Best Value Stocks¶\n",
    "\n",
    "As before, we can identify the 50 best value stocks in our universe by sorting the DataFrame on the RV Score column and dropping all but the top 50 entries."
   ]
  },
  {
   "cell_type": "code",
   "execution_count": null,
   "metadata": {},
   "outputs": [],
   "source": [
    "rv_dataframe.sort_values(by = 'RV Score', inplace = True)\n",
    "rv_dataframe = rv_dataframe[:50]\n",
    "rv_dataframe.reset_index(drop = True, inplace = True)"
   ]
  },
  {
   "cell_type": "markdown",
   "metadata": {},
   "source": [
    "## Calculating the Number of Shares to Buy\n",
    "We'll use the `portfolio_input` function that we created earlier to accept our portfolio size. Then we will use similar logic in a for loop to calculate the number of shares to buy for each stock in our investment universe."
   ]
  },
  {
   "cell_type": "code",
   "execution_count": null,
   "metadata": {},
   "outputs": [],
   "source": [
    "portfolio_input()"
   ]
  },
  {
   "cell_type": "code",
   "execution_count": null,
   "metadata": {},
   "outputs": [],
   "source": [
    "position_size = float(portfolio_size) / len(rv_dataframe.index)\n",
    "for i in range(0, len(rv_dataframe['Ticker'])-1):\n",
    "    rv_dataframe.loc[i, 'Number of Shares to Buy'] = math.floor(position_size / rv_dataframe['Price'][i])\n",
    "rv_dataframe"
   ]
  },
  {
   "cell_type": "markdown",
   "metadata": {},
   "source": [
    "## Formatting Our Excel Output\n",
    "\n",
    "We will be using the XlsxWriter library for Python to create nicely-formatted Excel files.\n",
    "\n",
    "XlsxWriter is an excellent package and offers tons of customization. However, the tradeoff for this is that the library can seem very complicated to new users. Accordingly, this section will be fairly long because I want to do a good job of explaining how XlsxWriter works."
   ]
  },
  {
   "cell_type": "code",
   "execution_count": null,
   "metadata": {},
   "outputs": [],
   "source": [
    "writer = pd.ExcelWriter('value_strategy.xlsx', engine='xlsxwriter')\n",
    "rv_dataframe.to_excel(writer, sheet_name='Value Strategy', index = False)"
   ]
  },
  {
   "cell_type": "markdown",
   "metadata": {},
   "source": [
    "## Creating the Formats We'll Need For Our .xlsx File\n",
    "You'll recall from our first project that formats include colors, fonts, and also symbols like % and $. We'll need four main formats for our Excel document:\n",
    "\n",
    "* String format for tickers\n",
    "* \\$XX.XX format for stock prices\n",
    "* \\$XX,XXX format for market capitalization\n",
    "* Integer format for the number of shares to purchase\n",
    "* Float formats with 1 decimal for each valuation metric\n",
    "\n",
    "Since we already built some formats in past sections of this course, I've included them below for you. Run this code cell before proceeding."
   ]
  },
  {
   "cell_type": "code",
   "execution_count": null,
   "metadata": {},
   "outputs": [],
   "source": [
    "background_color = '#0a0a23'\n",
    "font_color = '#ffffff'\n",
    "\n",
    "string_template = writer.book.add_format(\n",
    "        {\n",
    "            'font_color': font_color,\n",
    "            'bg_color': background_color,\n",
    "            'border': 1\n",
    "        }\n",
    "    )\n",
    "\n",
    "dollar_template = writer.book.add_format(\n",
    "        {\n",
    "            'num_format':'$0.00',\n",
    "            'font_color': font_color,\n",
    "            'bg_color': background_color,\n",
    "            'border': 1\n",
    "        }\n",
    "    )\n",
    "\n",
    "integer_template = writer.book.add_format(\n",
    "        {\n",
    "            'num_format':'0',\n",
    "            'font_color': font_color,\n",
    "            'bg_color': background_color,\n",
    "            'border': 1\n",
    "        }\n",
    "    )\n",
    "\n",
    "float_template = writer.book.add_format(\n",
    "        {\n",
    "            'num_format':'0',\n",
    "            'font_color': font_color,\n",
    "            'bg_color': background_color,\n",
    "            'border': 1\n",
    "        }\n",
    "    )\n",
    "\n",
    "percent_template = writer.book.add_format(\n",
    "        {\n",
    "            'num_format':'0.0%',\n",
    "            'font_color': font_color,\n",
    "            'bg_color': background_color,\n",
    "            'border': 1\n",
    "        }\n",
    "    )"
   ]
  },
  {
   "cell_type": "code",
   "execution_count": null,
   "metadata": {},
   "outputs": [],
   "source": [
    "column_formats = {\n",
    "                    'A': ['Ticker', string_template],\n",
    "                    'B': ['Price', dollar_template],\n",
    "                    'C': ['Number of Shares to Buy', integer_template],\n",
    "                    'D': ['Price-to-Earnings Ratio', float_template],\n",
    "                    'E': ['PE Percentile', percent_template],\n",
    "                    'F': ['Price-to-Book Ratio', float_template],\n",
    "                    'G': ['PB Percentile',percent_template],\n",
    "                    'H': ['Price-to-Sales Ratio', float_template],\n",
    "                    'I': ['PS Percentile', percent_template],\n",
    "                    'J': ['EV/EBITDA', float_template],\n",
    "                    'K': ['EV/EBITDA Percentile', percent_template],\n",
    "                    'L': ['EV/GP', float_template],\n",
    "                    'M': ['EV/GP Percentile', percent_template],\n",
    "                    'N': ['RV Score', percent_template]\n",
    "                 }\n",
    "\n",
    "for column in column_formats.keys():\n",
    "    writer.sheets['Value Strategy'].set_column(f'{column}:{column}', 25, column_formats[column][1])\n",
    "    writer.sheets['Value Strategy'].write(f'{column}1', column_formats[column][0], column_formats[column][1])"
   ]
  },
  {
   "cell_type": "markdown",
   "metadata": {},
   "source": [
    "## Saving Our Excel Output\n",
    "As before, saving our Excel output is very easy:"
   ]
  },
  {
   "cell_type": "code",
   "execution_count": null,
   "metadata": {},
   "outputs": [],
   "source": [
    "writer.save()"
   ]
  }
 ],
 "metadata": {
  "kernelspec": {
   "display_name": "Python 3 (ipykernel)",
   "language": "python",
   "name": "python3"
  },
  "language_info": {
   "codemirror_mode": {
    "name": "ipython",
    "version": 3
   },
   "file_extension": ".py",
   "mimetype": "text/x-python",
   "name": "python",
   "nbconvert_exporter": "python",
   "pygments_lexer": "ipython3",
   "version": "3.10.8"
  }
 },
 "nbformat": 4,
 "nbformat_minor": 4
}
